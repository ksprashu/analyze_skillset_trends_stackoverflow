{
 "cells": [
  {
   "cell_type": "code",
   "execution_count": 1,
   "metadata": {},
   "outputs": [],
   "source": [
    "# import necessary resources to download the files\n",
    "import requests\n",
    "import zipfile\n",
    "import io"
   ]
  },
  {
   "cell_type": "code",
   "execution_count": 2,
   "metadata": {},
   "outputs": [],
   "source": [
    "# define the paths where the files are present\n",
    "file_2011 = 'https://drive.google.com/uc?export=download&id=0Bx0LyhBTBZQgUGVYaGx3SzdUQ1U'\n",
    "file_2012 = 'https://drive.google.com/uc?export=download&id=0B0DL28AqnGsrX3JaZWVwWEpHNWM'\n",
    "file_2013 = 'https://drive.google.com/uc?export=download&id=0B0DL28AqnGsrenpPNTc5UE1PYW8'\n",
    "file_2014 = 'https://drive.google.com/uc?export=download&id=0B0DL28AqnGsrempjMktvWFNaQzA'\n",
    "file_2015 = 'https://drive.google.com/uc?export=download&id=0B0DL28AqnGsra1psanV1MEdxZk0'\n",
    "file_2016 = 'https://drive.google.com/uc?export=download&id=0B0DL28AqnGsrV0VldnVIT1hyb0E'\n",
    "file_2017 = 'https://drive.google.com/uc?export=download&id=0B6ZlG_Eygdj-c1kzcmUxN05VUXM'\n",
    "file_2018 = 'https://drive.google.com/uc?export=download&id=1_9On2-nsBQIw3JiY43sWbrF8EjrqrR4U'\n",
    "file_2019 = 'https://drive.google.com/uc?export=download&id=1QOmVDpd8hcVYqqUXDXf68UMDWQZP0wQV'\n",
    "\n",
    "filenames = ['2011 Stack Overflow Survey Results.csv', '2012 Stack Overflow Survey Results.csv', \n",
    "             '2013 Stack Overflow Survey Responses.csv', '2014 Stack Overflow Survey Responses.csv', \n",
    "             '2015 Stack Overflow Developer Survey Responses.csv', '2016 Stack Overflow Survey Results/2016 Stack Overflow Survey Responses.csv', \n",
    "             'survey_results_public.csv', 'survey_results_public.csv', \n",
    "             'survey_results_public.csv']\n",
    "years = [2011, 2012, 2013, 2014, 2015, 2016, 2017, 2018, 2019]\n",
    "urls = [file_2011, file_2012, file_2013, file_2014, file_2015, file_2016, file_2017, file_2018, file_2019]"
   ]
  },
  {
   "cell_type": "code",
   "execution_count": 6,
   "metadata": {},
   "outputs": [
    {
     "name": "stdout",
     "output_type": "stream",
     "text": [
      "downloading 2011 file from https://drive.google.com/uc?export=download&id=0Bx0LyhBTBZQgUGVYaGx3SzdUQ1U\n",
      "2011 Stack Overflow Survey Results.csv\n",
      "downloading 2012 file from https://drive.google.com/uc?export=download&id=0B0DL28AqnGsrX3JaZWVwWEpHNWM\n",
      "2012 Stack Overflow Survey Results.csv\n",
      "downloading 2013 file from https://drive.google.com/uc?export=download&id=0B0DL28AqnGsrenpPNTc5UE1PYW8\n",
      "2013 Stack Overflow Survey Responses.csv\n",
      "downloading 2014 file from https://drive.google.com/uc?export=download&id=0B0DL28AqnGsrempjMktvWFNaQzA\n",
      "2014 Stack Overflow Survey Responses.csv\n",
      "downloading 2015 file from https://drive.google.com/uc?export=download&id=0B0DL28AqnGsra1psanV1MEdxZk0\n",
      "2015 Stack Overflow Developer Survey Responses.csv\n",
      "downloading 2016 file from https://drive.google.com/uc?export=download&id=0B0DL28AqnGsrV0VldnVIT1hyb0E\n",
      "2016 Stack Overflow Survey Results/\n",
      "2016 Stack Overflow Survey Results/.DS_Store\n",
      "2016 Stack Overflow Survey Results/2016 Stack Overflow Survey Responses.csv\n",
      "2016 Stack Overflow Survey Results/READ_ME_-_The_Public_2016_Stack_Overflow_Developer_Survey_Results.txt\n",
      "downloading 2017 file from https://drive.google.com/uc?export=download&id=0B6ZlG_Eygdj-c1kzcmUxN05VUXM\n",
      "DeveloperSurvey2017QuestionaireCleaned.pdf\n",
      "README_2017.txt\n",
      "survey_results_public.csv\n",
      "survey_results_schema.csv\n",
      "downloading 2018 file from https://drive.google.com/uc?export=download&id=1_9On2-nsBQIw3JiY43sWbrF8EjrqrR4U\n",
      "survey_results_public.csv\n",
      "Developer_Survey_Instrument_2018.pdf\n",
      "survey_results_schema.csv\n",
      "README_2018.txt\n",
      "downloading 2019 file from https://drive.google.com/uc?export=download&id=1QOmVDpd8hcVYqqUXDXf68UMDWQZP0wQV\n",
      "survey_results_public.csv\n",
      "survey_results_schema.csv\n",
      "so_survey_2019.pdf\n",
      "README_2019.txt\n"
     ]
    }
   ],
   "source": [
    "# read all the files in each zipfile\n",
    "response_files = []\n",
    "for url, filename, year in zip(urls, filenames, years):\n",
    "    print('downloading %s file from %s' % (year, url))\n",
    "    response = requests.get(url)\n",
    "    response_files.append(response)\n",
    "\n",
    "    with zipfile.ZipFile(io.BytesIO(response.content)) as zf:\n",
    "        for fileinfo in zf.infolist():\n",
    "            if '__MACOSX' in fileinfo.filename:\n",
    "                continue\n",
    "            print(fileinfo.filename)"
   ]
  },
  {
   "cell_type": "code",
   "execution_count": 9,
   "metadata": {},
   "outputs": [
    {
     "name": "stdout",
     "output_type": "stream",
     "text": [
      "processing file from 2011\n",
      "extracting 2011 Stack Overflow Survey Results.csv\n",
      "writing 2011_results.csv\n",
      "processing file from 2012\n",
      "extracting 2012 Stack Overflow Survey Results.csv\n",
      "writing 2012_results.csv\n",
      "processing file from 2013\n",
      "extracting 2013 Stack Overflow Survey Responses.csv\n",
      "writing 2013_results.csv\n",
      "processing file from 2014\n",
      "extracting 2014 Stack Overflow Survey Responses.csv\n",
      "writing 2014_results.csv\n",
      "processing file from 2015\n",
      "extracting 2015 Stack Overflow Developer Survey Responses.csv\n",
      "writing 2015_results.csv\n",
      "processing file from 2016\n",
      "extracting 2016 Stack Overflow Survey Results/2016 Stack Overflow Survey Responses.csv\n",
      "writing 2016_results.csv\n",
      "processing file from 2017\n",
      "extracting survey_results_public.csv\n",
      "writing 2017_results.csv\n",
      "writing 2017_schema.csv\n",
      "processing file from 2018\n",
      "extracting survey_results_public.csv\n",
      "writing 2018_results.csv\n",
      "writing 2018_schema.csv\n",
      "processing file from 2019\n",
      "extracting survey_results_public.csv\n",
      "writing 2019_results.csv\n",
      "writing 2019_schema.csv\n"
     ]
    }
   ],
   "source": [
    "# save the required data and schema files for each year\n",
    "for url, filename, year, response in zip(urls, filenames, years, response_files):\n",
    "#     response = requests.get(url)\n",
    "    \n",
    "    print('processing file from %s' % (year))\n",
    "    with zipfile.ZipFile(io.BytesIO(response.content)) as zf:\n",
    "        \n",
    "        print('extracting %s' % filename)\n",
    "        with zf.open(filename) as f:\n",
    "            if '/' in filename:\n",
    "                filename = filename.split('/')[-1]\n",
    "\n",
    "            print('writing %s' % (str(year) + '_results.csv'))\n",
    "            with open(str(year) + '_results.csv', 'wb') as w:\n",
    "                w.write(f.read())\n",
    "\n",
    "        if year > 2016:\n",
    "            with zf.open('survey_results_schema.csv') as f:\n",
    "                print('writing %s' % (str(year) + '_schema.csv'))\n",
    "                with open(str(year) + '_schema.csv', 'wb') as w:\n",
    "                    w.write(f.read())\n"
   ]
  },
  {
   "cell_type": "code",
   "execution_count": 10,
   "metadata": {},
   "outputs": [],
   "source": [
    "# clean up the list of file responses\n",
    "response_files = []"
   ]
  },
  {
   "cell_type": "code",
   "execution_count": null,
   "metadata": {},
   "outputs": [],
   "source": []
  }
 ],
 "metadata": {
  "kernelspec": {
   "display_name": "Python 3",
   "language": "python",
   "name": "python3"
  },
  "language_info": {
   "codemirror_mode": {
    "name": "ipython",
    "version": 3
   },
   "file_extension": ".py",
   "mimetype": "text/x-python",
   "name": "python",
   "nbconvert_exporter": "python",
   "pygments_lexer": "ipython3",
   "version": "3.7.3"
  }
 },
 "nbformat": 4,
 "nbformat_minor": 2
}
