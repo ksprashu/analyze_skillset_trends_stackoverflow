{
 "cells": [
  {
   "cell_type": "code",
   "execution_count": 19,
   "metadata": {},
   "outputs": [],
   "source": [
    "# import necessary resources to download the files\n",
    "import requests\n",
    "import zipfile\n",
    "import io"
   ]
  },
  {
   "cell_type": "code",
   "execution_count": 34,
   "metadata": {},
   "outputs": [],
   "source": [
    "# define the paths where the files are present\n",
    "file_2011 = 'https://drive.google.com/uc?export=download&id=0Bx0LyhBTBZQgUGVYaGx3SzdUQ1U'\n",
    "file_2012 = 'https://drive.google.com/uc?export=download&id=0B0DL28AqnGsrX3JaZWVwWEpHNWM'\n",
    "file_2013 = 'https://drive.google.com/uc?export=download&id=0B0DL28AqnGsrenpPNTc5UE1PYW8'\n",
    "file_2014 = 'https://drive.google.com/uc?export=download&id=0B0DL28AqnGsrempjMktvWFNaQzA'\n",
    "file_2015 = 'https://drive.google.com/uc?export=download&id=0B0DL28AqnGsra1psanV1MEdxZk0'\n",
    "file_2016 = 'https://drive.google.com/uc?export=download&id=0B0DL28AqnGsrV0VldnVIT1hyb0E'\n",
    "file_2017 = 'https://drive.google.com/uc?export=download&id=0B6ZlG_Eygdj-c1kzcmUxN05VUXM'\n",
    "file_2018 = 'https://drive.google.com/uc?export=download&id=1_9On2-nsBQIw3JiY43sWbrF8EjrqrR4U'\n",
    "file_2019 = 'https://drive.google.com/uc?export=download&id=1QOmVDpd8hcVYqqUXDXf68UMDWQZP0wQV'\n",
    "\n",
    "filenames = ['2011 Stack Overflow Survey Results.csv', '2012 Stack Overflow Survey Results.csv', \n",
    "             '2013 Stack Overflow Survey Responses.csv', '2014 Stack Overflow Survey Responses.csv', \n",
    "             '2015 Stack Overflow Developer Survey Responses.csv', '2016 Stack Overflow Survey Results/2016 Stack Overflow Survey Responses.csv', \n",
    "             'survey_results_public.csv', 'survey_results_public.csv', \n",
    "             'survey_results_public.csv']\n",
    "years = [2011, 2012, 2013, 2014, 2015, 2016, 2017, 2018, 2019]\n",
    "urls = [file_2011, file_2012, file_2013, file_2014, file_2015, file_2016, file_2017, file_2018, file_2019]"
   ]
  },
  {
   "cell_type": "code",
   "execution_count": 37,
   "metadata": {},
   "outputs": [
    {
     "name": "stdout",
     "output_type": "stream",
     "text": [
      "downloading 2011 file from https://drive.google.com/uc?export=download&id=0Bx0LyhBTBZQgUGVYaGx3SzdUQ1U\n",
      "extracting 2011 Stack Overflow Survey Results.csv\n",
      "downloading 2012 file from https://drive.google.com/uc?export=download&id=0B0DL28AqnGsrX3JaZWVwWEpHNWM\n",
      "extracting 2012 Stack Overflow Survey Results.csv\n",
      "downloading 2013 file from https://drive.google.com/uc?export=download&id=0B0DL28AqnGsrenpPNTc5UE1PYW8\n",
      "extracting 2013 Stack Overflow Survey Responses.csv\n",
      "downloading 2014 file from https://drive.google.com/uc?export=download&id=0B0DL28AqnGsrempjMktvWFNaQzA\n",
      "extracting 2014 Stack Overflow Survey Responses.csv\n",
      "downloading 2015 file from https://drive.google.com/uc?export=download&id=0B0DL28AqnGsra1psanV1MEdxZk0\n",
      "extracting 2015 Stack Overflow Developer Survey Responses.csv\n",
      "downloading 2016 file from https://drive.google.com/uc?export=download&id=0B0DL28AqnGsrV0VldnVIT1hyb0E\n",
      "extracting 2016 Stack Overflow Survey Results/2016 Stack Overflow Survey Responses.csv\n",
      "downloading 2017 file from https://drive.google.com/uc?export=download&id=0B6ZlG_Eygdj-c1kzcmUxN05VUXM\n",
      "extracting survey_results_public.csv\n",
      "downloading 2018 file from https://drive.google.com/uc?export=download&id=1_9On2-nsBQIw3JiY43sWbrF8EjrqrR4U\n",
      "extracting survey_results_public.csv\n",
      "downloading 2019 file from https://drive.google.com/uc?export=download&id=1QOmVDpd8hcVYqqUXDXf68UMDWQZP0wQV\n",
      "extracting survey_results_public.csv\n"
     ]
    }
   ],
   "source": [
    "for url, filename, year in zip(urls, filenames, years):\n",
    "    response = requests.get(url)\n",
    "    \n",
    "    print('downloading %s file from %s' % (year, url))\n",
    "    with zipfile.ZipFile(io.BytesIO(response.content)) as zf:\n",
    "        for fileinfo in zf.infolist():\n",
    "            \n",
    "            if fileinfo.filename == filename:  \n",
    "                \n",
    "                print('extracting %s' % filename)\n",
    "                with zf.open(fileinfo) as f:\n",
    "                    if '/' in filename:\n",
    "                        filename = filename.split('/')[-1]\n",
    "                    with open(str(year) + '_results.csv', 'wb') as w:\n",
    "                        w.write(f.read())\n"
   ]
  },
  {
   "cell_type": "code",
   "execution_count": null,
   "metadata": {},
   "outputs": [],
   "source": []
  }
 ],
 "metadata": {
  "kernelspec": {
   "display_name": "Python 3",
   "language": "python",
   "name": "python3"
  },
  "language_info": {
   "codemirror_mode": {
    "name": "ipython",
    "version": 3
   },
   "file_extension": ".py",
   "mimetype": "text/x-python",
   "name": "python",
   "nbconvert_exporter": "python",
   "pygments_lexer": "ipython3",
   "version": "3.7.1"
  }
 },
 "nbformat": 4,
 "nbformat_minor": 2
}
